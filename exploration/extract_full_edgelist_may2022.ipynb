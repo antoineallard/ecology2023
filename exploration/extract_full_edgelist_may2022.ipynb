{
 "cells": [
  {
   "cell_type": "code",
   "execution_count": 1,
   "id": "05bf007a-197c-4b7a-96d2-ad148471d48d",
   "metadata": {
    "tags": []
   },
   "outputs": [],
   "source": [
    "from datetime import datetime\n",
    "from haversine import haversine\n",
    "from itertools import combinations\n",
    "from numpy import sqrt\n",
    "from pandas import DataFrame, read_csv, merge, concat"
   ]
  },
  {
   "cell_type": "markdown",
   "id": "65ae7620-4b68-4578-982e-341554596be8",
   "metadata": {},
   "source": [
    "### Loads the dataset with interpolated positions"
   ]
  },
  {
   "cell_type": "code",
   "execution_count": 2,
   "id": "55050833-210e-456f-86a2-be3829e0a671",
   "metadata": {
    "tags": []
   },
   "outputs": [],
   "source": [
    "# Loads the dataset with interpolated positions from the games played in May 2022\n",
    "df = read_csv('../data/2022_05/interpolated_positions.csv')\n",
    "\n",
    "# Converts the entries in column Timestamp into datetime objects\n",
    "df['Timestamp'] = df.apply(lambda x: datetime.strptime(x['Timestamp'], '%Y-%m-%d  %H:%M:%S'), axis=1)"
   ]
  },
  {
   "cell_type": "markdown",
   "id": "b6e20f2a-e2c1-46f9-ac04-cdc3e41f1e4b",
   "metadata": {},
   "source": [
    "### Generates the full edgelist for each game and computes the distance between each possible link"
   ]
  },
  {
   "cell_type": "code",
   "execution_count": 3,
   "id": "ba5f4035-704e-4eed-96c4-9737df7fc0f8",
   "metadata": {
    "tags": []
   },
   "outputs": [],
   "source": [
    "def compute_distance(row):\n",
    "    \"\"\"Computes the distance between positions\"\"\"\n",
    "    dr = haversine((row.Latitude_1, row.Longitude_1), (row.Latitude_2, row.Longitude_2), unit='m')\n",
    "    # dz = row.Elevation_1 - row.Elevation_2\n",
    "    return dr  #sqrt(dr**2 + dz**2)"
   ]
  },
  {
   "cell_type": "code",
   "execution_count": 4,
   "id": "3b79c29b-fcc2-4b6e-ab89-a6b14eb90c51",
   "metadata": {
    "tags": []
   },
   "outputs": [],
   "source": [
    "new_df = DataFrame()\n",
    "\n",
    "for game in df['Game'].unique():\n",
    "\n",
    "    for players in combinations(df[df.Game==game]['Player_ID'].unique(), 2):\n",
    "        tmp_df = merge(left=df[(df.Game==game) & (df.Player_ID==players[0])].set_index('Timestamp'),\n",
    "                       right=df[(df.Game==game) & (df.Player_ID==players[1])].set_index('Timestamp'),\n",
    "                       left_index=True, right_index=True, suffixes=('_1', '_2')).reset_index(inplace=False)\n",
    "        tmp_df['distance'] = tmp_df.apply(lambda row: compute_distance(row), axis=1)\n",
    "        new_df = concat([new_df, tmp_df], ignore_index=True)\n",
    "\n",
    "new_df.rename(columns={'Game_1': 'Game'}, inplace=True)\n",
    "\n",
    "new_df.to_csv('../data/2022_05/full_edgelist.csv',\n",
    "              index=False,\n",
    "              columns=['Game', 'Timestamp', 'distance',\n",
    "                       'Player_ID_1', 'Latitude_1', 'Longitude_1',\n",
    "                       'Player_ID_2', 'Latitude_2', 'Longitude_2'])"
   ]
  },
  {
   "cell_type": "code",
   "execution_count": null,
   "id": "976f0afa-b668-48d1-9221-95320cec84a2",
   "metadata": {},
   "outputs": [],
   "source": []
  }
 ],
 "metadata": {
  "kernelspec": {
   "display_name": "pyenv 3.11.1",
   "language": "python",
   "name": "3.11.1"
  },
  "language_info": {
   "codemirror_mode": {
    "name": "ipython",
    "version": 3
   },
   "file_extension": ".py",
   "mimetype": "text/x-python",
   "name": "python",
   "nbconvert_exporter": "python",
   "pygments_lexer": "ipython3",
   "version": "3.11.1"
  }
 },
 "nbformat": 4,
 "nbformat_minor": 5
}
