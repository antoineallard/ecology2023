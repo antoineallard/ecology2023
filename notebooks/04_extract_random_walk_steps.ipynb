{
 "cells": [
  {
   "cell_type": "code",
   "execution_count": 1,
   "id": "6561538a-2aee-4873-a7cb-d99f0599567b",
   "metadata": {
    "tags": []
   },
   "outputs": [],
   "source": [
    "from datetime import datetime\n",
    "from haversine import haversine\n",
    "from math import atan2, pi\n",
    "from pandas import DataFrame, read_csv"
   ]
  },
  {
   "cell_type": "markdown",
   "id": "af9cc171-2c0d-48a5-8c4d-e31b8d08c1b2",
   "metadata": {},
   "source": [
    "### Function computing the length and orientation of each step"
   ]
  },
  {
   "cell_type": "code",
   "execution_count": 2,
   "id": "51be8fa7-ed9a-4adf-9432-4ba8b0441560",
   "metadata": {
    "tags": []
   },
   "outputs": [],
   "source": [
    "def extract_steps(df):\n",
    "    \"\"\"Computes the length, orientation (in degrees) and elapsed time for each recorded step.\"\"\"\n",
    "    new_steps = []\n",
    "    x0, y0, t0 = df['Latitude'].iloc[0], df['Longitude'].iloc[0], df['Timestamp'].iloc[0]\n",
    "    \n",
    "    for row in df[1:].itertuples():\n",
    "        x1, y1, t1 = row.Latitude, row.Longitude, row.Timestamp\n",
    "        new_steps.append([row.Game,\n",
    "                         row.Player_ID,\n",
    "                         haversine((y1, x1), (y0, x0), unit='m'),\n",
    "                         360 * (atan2(x1-x0, y1-y0) + pi) / (2 * pi),   # Assuming flat space (i.e. small angles)\n",
    "                         (t1-t0).total_seconds()])\n",
    "        x0, y0, t0 = x1, y1, t1\n",
    "    return new_steps\n",
    "\n",
    "DataFrame.extract_steps = extract_steps"
   ]
  },
  {
   "cell_type": "markdown",
   "id": "fcb386f6-e1e2-4891-9f7c-bcb37f26ffa5",
   "metadata": {},
   "source": [
    "### Loads the original dataset"
   ]
  },
  {
   "cell_type": "code",
   "execution_count": 3,
   "id": "af138c4e-930f-441a-a9f5-75fc9dacd1e4",
   "metadata": {
    "tags": []
   },
   "outputs": [],
   "source": [
    "# Loads the original data from the games played in May 2022\n",
    "filename = '../data/2022_05/Data_Jeu_Pred-Prey_IAOMay2022/Data/All_Tracks.csv'\n",
    "cols = ['Elevation', 'Latitude', 'Longitude', 'Timestamp', 'Game', 'Player_ID']\n",
    "positions_df = read_csv(filename, usecols=cols)\n",
    "\n",
    "# Converts the entries in column Timestamp into datetime objects\n",
    "positions_df['Timestamp'] = positions_df.apply(lambda x: datetime.strptime(x['Timestamp'], '%Y-%m-%d  %H:%M:%S'), axis=1)"
   ]
  },
  {
   "cell_type": "code",
   "execution_count": 4,
   "id": "09d0e24b-3b7e-4fbc-9797-4b9678a4da45",
   "metadata": {
    "tags": []
   },
   "outputs": [],
   "source": [
    "# Extracts the length, orientation (in degrees) and elapsed time for each recorded step\n",
    "steps = []\n",
    "for name, sub_df in positions_df.groupby(['Game', 'Player_ID']):\n",
    "    steps.extend(sub_df.extract_steps())\n",
    "    \n",
    "# Creates a new dataframe containing the steps\n",
    "steps_df = DataFrame(steps, columns=['Game', 'Player_ID', 'length (m)', 'orientation (deg.)', 'time (s)'])\n",
    "steps_df.sort_values(by=['Game', 'Player_ID'], inplace=True)\n",
    "\n",
    "# Saves the dataframe to file\n",
    "steps_df.to_csv('../data/2022_05/steps_original_positions.csv', index=False)"
   ]
  },
  {
   "cell_type": "code",
   "execution_count": 5,
   "id": "3950733c-fdab-479e-8472-747e4bbb7e65",
   "metadata": {
    "tags": []
   },
   "outputs": [
    {
     "data": {
      "text/html": [
       "<div>\n",
       "<style scoped>\n",
       "    .dataframe tbody tr th:only-of-type {\n",
       "        vertical-align: middle;\n",
       "    }\n",
       "\n",
       "    .dataframe tbody tr th {\n",
       "        vertical-align: top;\n",
       "    }\n",
       "\n",
       "    .dataframe thead th {\n",
       "        text-align: right;\n",
       "    }\n",
       "</style>\n",
       "<table border=\"1\" class=\"dataframe\">\n",
       "  <thead>\n",
       "    <tr style=\"text-align: right;\">\n",
       "      <th></th>\n",
       "      <th>Game</th>\n",
       "      <th>Player_ID</th>\n",
       "      <th>length (m)</th>\n",
       "      <th>orientation (deg.)</th>\n",
       "      <th>time (s)</th>\n",
       "    </tr>\n",
       "  </thead>\n",
       "  <tbody>\n",
       "    <tr>\n",
       "      <th>0</th>\n",
       "      <td>1</td>\n",
       "      <td>DB</td>\n",
       "      <td>0.518919</td>\n",
       "      <td>43.898294</td>\n",
       "      <td>11.0</td>\n",
       "    </tr>\n",
       "    <tr>\n",
       "      <th>1</th>\n",
       "      <td>1</td>\n",
       "      <td>DB</td>\n",
       "      <td>1.883942</td>\n",
       "      <td>6.215636</td>\n",
       "      <td>8.0</td>\n",
       "    </tr>\n",
       "    <tr>\n",
       "      <th>2</th>\n",
       "      <td>1</td>\n",
       "      <td>DB</td>\n",
       "      <td>1.041307</td>\n",
       "      <td>198.898247</td>\n",
       "      <td>3.0</td>\n",
       "    </tr>\n",
       "    <tr>\n",
       "      <th>3</th>\n",
       "      <td>1</td>\n",
       "      <td>DB</td>\n",
       "      <td>2.885629</td>\n",
       "      <td>349.369150</td>\n",
       "      <td>7.0</td>\n",
       "    </tr>\n",
       "    <tr>\n",
       "      <th>4</th>\n",
       "      <td>1</td>\n",
       "      <td>DB</td>\n",
       "      <td>1.239599</td>\n",
       "      <td>180.430787</td>\n",
       "      <td>8.0</td>\n",
       "    </tr>\n",
       "    <tr>\n",
       "      <th>5</th>\n",
       "      <td>1</td>\n",
       "      <td>DB</td>\n",
       "      <td>3.031341</td>\n",
       "      <td>199.440035</td>\n",
       "      <td>9.0</td>\n",
       "    </tr>\n",
       "    <tr>\n",
       "      <th>6</th>\n",
       "      <td>1</td>\n",
       "      <td>DB</td>\n",
       "      <td>2.058005</td>\n",
       "      <td>205.717856</td>\n",
       "      <td>2.0</td>\n",
       "    </tr>\n",
       "    <tr>\n",
       "      <th>7</th>\n",
       "      <td>1</td>\n",
       "      <td>DB</td>\n",
       "      <td>13.786565</td>\n",
       "      <td>196.499060</td>\n",
       "      <td>11.0</td>\n",
       "    </tr>\n",
       "    <tr>\n",
       "      <th>8</th>\n",
       "      <td>1</td>\n",
       "      <td>DB</td>\n",
       "      <td>3.187621</td>\n",
       "      <td>211.588413</td>\n",
       "      <td>19.0</td>\n",
       "    </tr>\n",
       "    <tr>\n",
       "      <th>9</th>\n",
       "      <td>1</td>\n",
       "      <td>DB</td>\n",
       "      <td>12.659506</td>\n",
       "      <td>11.756468</td>\n",
       "      <td>11.0</td>\n",
       "    </tr>\n",
       "  </tbody>\n",
       "</table>\n",
       "</div>"
      ],
      "text/plain": [
       "   Game Player_ID  length (m)  orientation (deg.)  time (s)\n",
       "0     1        DB    0.518919           43.898294      11.0\n",
       "1     1        DB    1.883942            6.215636       8.0\n",
       "2     1        DB    1.041307          198.898247       3.0\n",
       "3     1        DB    2.885629          349.369150       7.0\n",
       "4     1        DB    1.239599          180.430787       8.0\n",
       "5     1        DB    3.031341          199.440035       9.0\n",
       "6     1        DB    2.058005          205.717856       2.0\n",
       "7     1        DB   13.786565          196.499060      11.0\n",
       "8     1        DB    3.187621          211.588413      19.0\n",
       "9     1        DB   12.659506           11.756468      11.0"
      ]
     },
     "execution_count": 5,
     "metadata": {},
     "output_type": "execute_result"
    }
   ],
   "source": [
    "steps_df.head(10)"
   ]
  },
  {
   "cell_type": "markdown",
   "id": "e1dc6d94-370e-4984-99eb-e75a25bb4145",
   "metadata": {
    "tags": []
   },
   "source": [
    "### Dataset with interpolated positions"
   ]
  },
  {
   "cell_type": "code",
   "execution_count": 6,
   "id": "aa15951d-9b28-42ab-9f79-2f6b6c566a59",
   "metadata": {
    "tags": []
   },
   "outputs": [],
   "source": [
    "# Loads the dataset with interpolated positions from the games played in May 2022\n",
    "positions_df = read_csv('../data/2022_05/interpolated_positions.csv')\n",
    "\n",
    "# Converts the entries in column Timestamp into datetime objects\n",
    "positions_df['Timestamp'] = positions_df.apply(lambda x: datetime.strptime(x['Timestamp'], '%Y-%m-%d  %H:%M:%S'), axis=1)"
   ]
  },
  {
   "cell_type": "code",
   "execution_count": 7,
   "id": "b5c77f31-8863-43dd-8b31-7fede338bece",
   "metadata": {
    "tags": []
   },
   "outputs": [],
   "source": [
    "# Extracts the length, orientation (in degrees) and elapsed time for each recorded step\n",
    "steps = []\n",
    "for name, sub_df in positions_df.groupby(['Game', 'Player_ID']):\n",
    "    steps.extend(sub_df.extract_steps())\n",
    "    \n",
    "# Creates a new dataframe containing the steps\n",
    "steps_df = DataFrame(steps, columns=['Game', 'Player_ID', 'length (m)', 'orientation (deg.)', 'time (s)'])\n",
    "steps_df.sort_values(by=['Game', 'Player_ID'], inplace=True)\n",
    "\n",
    "# Saves the dataframe to file\n",
    "steps_df.to_csv('../data/2022_05/steps_interpolated_positions.csv', index=False)"
   ]
  },
  {
   "cell_type": "code",
   "execution_count": 8,
   "id": "6404245c-bb67-418c-9639-ef3ce058b487",
   "metadata": {
    "tags": []
   },
   "outputs": [
    {
     "data": {
      "text/html": [
       "<div>\n",
       "<style scoped>\n",
       "    .dataframe tbody tr th:only-of-type {\n",
       "        vertical-align: middle;\n",
       "    }\n",
       "\n",
       "    .dataframe tbody tr th {\n",
       "        vertical-align: top;\n",
       "    }\n",
       "\n",
       "    .dataframe thead th {\n",
       "        text-align: right;\n",
       "    }\n",
       "</style>\n",
       "<table border=\"1\" class=\"dataframe\">\n",
       "  <thead>\n",
       "    <tr style=\"text-align: right;\">\n",
       "      <th></th>\n",
       "      <th>Game</th>\n",
       "      <th>Player_ID</th>\n",
       "      <th>length (m)</th>\n",
       "      <th>orientation (deg.)</th>\n",
       "      <th>time (s)</th>\n",
       "    </tr>\n",
       "  </thead>\n",
       "  <tbody>\n",
       "    <tr>\n",
       "      <th>0</th>\n",
       "      <td>1</td>\n",
       "      <td>DB</td>\n",
       "      <td>0.047174</td>\n",
       "      <td>43.898295</td>\n",
       "      <td>1.0</td>\n",
       "    </tr>\n",
       "    <tr>\n",
       "      <th>1</th>\n",
       "      <td>1</td>\n",
       "      <td>DB</td>\n",
       "      <td>0.047174</td>\n",
       "      <td>43.898293</td>\n",
       "      <td>1.0</td>\n",
       "    </tr>\n",
       "    <tr>\n",
       "      <th>2</th>\n",
       "      <td>1</td>\n",
       "      <td>DB</td>\n",
       "      <td>0.047174</td>\n",
       "      <td>43.898295</td>\n",
       "      <td>1.0</td>\n",
       "    </tr>\n",
       "    <tr>\n",
       "      <th>3</th>\n",
       "      <td>1</td>\n",
       "      <td>DB</td>\n",
       "      <td>0.047174</td>\n",
       "      <td>43.898295</td>\n",
       "      <td>1.0</td>\n",
       "    </tr>\n",
       "    <tr>\n",
       "      <th>4</th>\n",
       "      <td>1</td>\n",
       "      <td>DB</td>\n",
       "      <td>0.047174</td>\n",
       "      <td>43.898294</td>\n",
       "      <td>1.0</td>\n",
       "    </tr>\n",
       "    <tr>\n",
       "      <th>5</th>\n",
       "      <td>1</td>\n",
       "      <td>DB</td>\n",
       "      <td>0.047174</td>\n",
       "      <td>43.898294</td>\n",
       "      <td>1.0</td>\n",
       "    </tr>\n",
       "    <tr>\n",
       "      <th>6</th>\n",
       "      <td>1</td>\n",
       "      <td>DB</td>\n",
       "      <td>0.047174</td>\n",
       "      <td>43.898294</td>\n",
       "      <td>1.0</td>\n",
       "    </tr>\n",
       "    <tr>\n",
       "      <th>7</th>\n",
       "      <td>1</td>\n",
       "      <td>DB</td>\n",
       "      <td>0.047174</td>\n",
       "      <td>43.898295</td>\n",
       "      <td>1.0</td>\n",
       "    </tr>\n",
       "    <tr>\n",
       "      <th>8</th>\n",
       "      <td>1</td>\n",
       "      <td>DB</td>\n",
       "      <td>0.047174</td>\n",
       "      <td>43.898295</td>\n",
       "      <td>1.0</td>\n",
       "    </tr>\n",
       "    <tr>\n",
       "      <th>9</th>\n",
       "      <td>1</td>\n",
       "      <td>DB</td>\n",
       "      <td>0.047174</td>\n",
       "      <td>43.898294</td>\n",
       "      <td>1.0</td>\n",
       "    </tr>\n",
       "  </tbody>\n",
       "</table>\n",
       "</div>"
      ],
      "text/plain": [
       "   Game Player_ID  length (m)  orientation (deg.)  time (s)\n",
       "0     1        DB    0.047174           43.898295       1.0\n",
       "1     1        DB    0.047174           43.898293       1.0\n",
       "2     1        DB    0.047174           43.898295       1.0\n",
       "3     1        DB    0.047174           43.898295       1.0\n",
       "4     1        DB    0.047174           43.898294       1.0\n",
       "5     1        DB    0.047174           43.898294       1.0\n",
       "6     1        DB    0.047174           43.898294       1.0\n",
       "7     1        DB    0.047174           43.898295       1.0\n",
       "8     1        DB    0.047174           43.898295       1.0\n",
       "9     1        DB    0.047174           43.898294       1.0"
      ]
     },
     "execution_count": 8,
     "metadata": {},
     "output_type": "execute_result"
    }
   ],
   "source": [
    "steps_df.head(10)"
   ]
  },
  {
   "cell_type": "code",
   "execution_count": null,
   "id": "30860cc6-0719-49c3-8528-b909ae66451c",
   "metadata": {},
   "outputs": [],
   "source": []
  }
 ],
 "metadata": {
  "kernelspec": {
   "display_name": "pyenv 3.11.1",
   "language": "python",
   "name": "3.11.1"
  },
  "language_info": {
   "codemirror_mode": {
    "name": "ipython",
    "version": 3
   },
   "file_extension": ".py",
   "mimetype": "text/x-python",
   "name": "python",
   "nbconvert_exporter": "python",
   "pygments_lexer": "ipython3",
   "version": "3.11.1"
  }
 },
 "nbformat": 4,
 "nbformat_minor": 5
}
