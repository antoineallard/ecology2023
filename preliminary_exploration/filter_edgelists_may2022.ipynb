{
 "cells": [
  {
   "cell_type": "code",
   "execution_count": 1,
   "id": "411cabb8-eaa1-4ddf-9924-49a2cdf7b465",
   "metadata": {
    "tags": []
   },
   "outputs": [],
   "source": [
    "from datetime import datetime\n",
    "from pandas import read_csv"
   ]
  },
  {
   "cell_type": "markdown",
   "id": "015f56dc-4f72-4619-8ffb-86330835f12c",
   "metadata": {},
   "source": [
    "### Loads the full edgelist"
   ]
  },
  {
   "cell_type": "code",
   "execution_count": 2,
   "id": "16cbd8ce-2df1-4b78-b220-6b83d6838101",
   "metadata": {
    "tags": []
   },
   "outputs": [],
   "source": [
    "# Loads the full edgelist from the games played in May 2022\n",
    "df = read_csv('../data/2022_05/full_edgelist.csv')\n",
    "\n",
    "# Converts the entries in column Timestamp into datetime objects\n",
    "df['Timestamp'] = df.apply(lambda x: datetime.strptime(x['Timestamp'], '%Y-%m-%d  %H:%M:%S'), axis=1)"
   ]
  },
  {
   "cell_type": "markdown",
   "id": "0f763c2d-3de8-4152-881b-8692bfa371d1",
   "metadata": {},
   "source": [
    "### Example: extracts an edgelist"
   ]
  },
  {
   "cell_type": "code",
   "execution_count": 3,
   "id": "0edbb23a-091a-4339-8975-ef2192d58820",
   "metadata": {
    "tags": []
   },
   "outputs": [],
   "source": [
    "# The game to focus on.\n",
    "game_to_keep = 1\n",
    "\n",
    "# Maximal distance allowed for an interaction.\n",
    "distance_threshold = 10\n",
    "\n",
    "df[(df.Game==game_to_keep) & (df.distance < distance_threshold)].to_csv(\n",
    "              '../data/2022_05/edgelist_game{}_thresh{}.csv'.format(game_to_keep, distance_threshold),\n",
    "              index=False,\n",
    "              columns=['Player_ID_1', 'Player_ID_2', 'Timestamp'])\n",
    "              # other columns available:\n",
    "              #   Game, distance,\n",
    "              #   Latitude_1, Longitude_1\n",
    "              #   Latitude_2, Longitude_2"
   ]
  },
  {
   "cell_type": "code",
   "execution_count": null,
   "id": "225b0f2b-8cd0-4a9a-a6a3-5fd7cfd0e983",
   "metadata": {},
   "outputs": [],
   "source": []
  }
 ],
 "metadata": {
  "kernelspec": {
   "display_name": "pyenv 3.11.1",
   "language": "python",
   "name": "3.11.1"
  },
  "language_info": {
   "codemirror_mode": {
    "name": "ipython",
    "version": 3
   },
   "file_extension": ".py",
   "mimetype": "text/x-python",
   "name": "python",
   "nbconvert_exporter": "python",
   "pygments_lexer": "ipython3",
   "version": "3.11.1"
  }
 },
 "nbformat": 4,
 "nbformat_minor": 5
}
